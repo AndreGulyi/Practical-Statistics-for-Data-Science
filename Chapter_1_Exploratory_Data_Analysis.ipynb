{
  "nbformat": 4,
  "nbformat_minor": 0,
  "metadata": {
    "colab": {
      "private_outputs": true,
      "provenance": [],
      "mount_file_id": "1ELmZIusjV3gHogQu0zvqv-8dVMcsm7G-",
      "authorship_tag": "ABX9TyNiayxq287r65xtns5QSwXY",
      "include_colab_link": true
    },
    "kernelspec": {
      "name": "python3",
      "display_name": "Python 3"
    },
    "language_info": {
      "name": "python"
    }
  },
  "cells": [
    {
      "cell_type": "markdown",
      "metadata": {
        "id": "view-in-github",
        "colab_type": "text"
      },
      "source": [
        "<a href=\"https://colab.research.google.com/github/AndreGulyi/Practical-Statistics-for-Data-Science/blob/main/Chapter_1_Exploratory_Data_Analysis.ipynb\" target=\"_parent\"><img src=\"https://colab.research.google.com/assets/colab-badge.svg\" alt=\"Open In Colab\"/></a>"
      ]
    },
    {
      "cell_type": "code",
      "execution_count": null,
      "metadata": {
        "id": "iE2ll76VTM8l"
      },
      "outputs": [],
      "source": [
        "%matplotlib inline\n",
        "\n",
        "from pathlib import Path\n",
        "\n",
        "import pandas as pd\n",
        "import numpy as np\n",
        "from scipy.stats import trim_mean\n",
        "from statsmodels import robust\n",
        "\n",
        "import seaborn as sns\n",
        "import matplotlib.pylab as plt"
      ]
    },
    {
      "cell_type": "code",
      "source": [
        "folder_link = '/content/drive/MyDrive/Databases/practical-statistics-for-data-scientists-master/'"
      ],
      "metadata": {
        "id": "BaBikoFmWzWN"
      },
      "execution_count": null,
      "outputs": []
    },
    {
      "cell_type": "code",
      "source": [
        "AIRLINE_STATS_CSV = folder_link+'airline_stats.csv'\n",
        "KC_TAX_CSV = folder_link+'kc_tax.csv.gz'\n",
        "LC_LOANS_CSV = folder_link+'lc_loans.csv'\n",
        "AIRPORT_DELAYS_CSV = folder_link+'dfw_airline.csv'\n",
        "SP500_DATA_CSV = folder_link+'sp500_data.csv.gz'\n",
        "SP500_SECTORS_CSV = folder_link+'sp500_sectors.csv'\n",
        "STATE_CSV = folder_link+'state.csv'"
      ],
      "metadata": {
        "id": "QJTWuFKRW23v"
      },
      "execution_count": null,
      "outputs": []
    },
    {
      "cell_type": "markdown",
      "source": [
        "###Estimates of Location"
      ],
      "metadata": {
        "id": "IYv1RqHHfGHG"
      }
    },
    {
      "cell_type": "code",
      "source": [
        "state = pd.read_csv(STATE_CSV)\n",
        "state.head().round(1)"
      ],
      "metadata": {
        "id": "IKQqjl82XjFc"
      },
      "execution_count": null,
      "outputs": []
    },
    {
      "cell_type": "markdown",
      "source": [
        "Compute the mean, trimmed mean, and median for Population. For mean and median we can use the pandas methods of the data frame. The trimmed mean requires the trim_mean function in scipy.stats.\n"
      ],
      "metadata": {
        "id": "ex4jefXUcSxK"
      }
    },
    {
      "cell_type": "code",
      "source": [
        "state = pd.read_csv(STATE_CSV)\n",
        "print(state.Population.mean())"
      ],
      "metadata": {
        "id": "-gFmVfDfcUGK"
      },
      "execution_count": null,
      "outputs": []
    },
    {
      "cell_type": "code",
      "source": [
        "print(trim_mean(state.Population, 0.05))"
      ],
      "metadata": {
        "id": "KLXbq9qQcqF_"
      },
      "execution_count": null,
      "outputs": []
    },
    {
      "cell_type": "code",
      "source": [
        "print(state.Population.median())"
      ],
      "metadata": {
        "id": "LM9b2HMddGAS"
      },
      "execution_count": null,
      "outputs": []
    },
    {
      "cell_type": "markdown",
      "source": [
        "Weighted mean is available with numpy and you could find more in\n",
        "https://www.geeksforgeeks.org/how-to-calculate-weighted-average-in-pandas/"
      ],
      "metadata": {
        "id": "8b6k74RqeFt-"
      }
    },
    {
      "cell_type": "code",
      "source": [
        "print(state['Murder.Rate'].mean().round(2))"
      ],
      "metadata": {
        "id": "qBjaQXiIeJP2"
      },
      "execution_count": null,
      "outputs": []
    },
    {
      "cell_type": "code",
      "source": [
        "print(np.average(state['Murder.Rate'],weights=state['Population']).round(2))"
      ],
      "metadata": {
        "id": "GsXOl9ttenIF"
      },
      "execution_count": null,
      "outputs": []
    },
    {
      "cell_type": "markdown",
      "source": [
        "####Estimates of Variability"
      ],
      "metadata": {
        "id": "NDTVa-LnfBkW"
      }
    },
    {
      "cell_type": "code",
      "source": [
        "print(state.head(10))"
      ],
      "metadata": {
        "id": "PKJ1TAqog27F"
      },
      "execution_count": null,
      "outputs": []
    },
    {
      "cell_type": "code",
      "source": [
        "print(state['Population'].std().round(1))"
      ],
      "metadata": {
        "id": "RqGOKK3ghCmv"
      },
      "execution_count": null,
      "outputs": []
    },
    {
      "cell_type": "markdown",
      "source": [
        "Interquartile range is calculated as the difference of the 75% and 25% quantile.\n"
      ],
      "metadata": {
        "id": "zDuY6pp63FRA"
      }
    },
    {
      "cell_type": "code",
      "source": [
        "print(state['Population'].quantile(0.75) - state['Population'].quantile(0.25))"
      ],
      "metadata": {
        "id": "kQmfiHur2T0t"
      },
      "execution_count": null,
      "outputs": []
    },
    {
      "cell_type": "markdown",
      "source": [
        "Median absolute deviation from the median can be calculated with a method in statsmodels\n"
      ],
      "metadata": {
        "id": "kNyDITx-3HT-"
      }
    },
    {
      "cell_type": "code",
      "source": [
        "print(robust.scale.mad(state['Population']))"
      ],
      "metadata": {
        "id": "WstIk0243KJX"
      },
      "execution_count": null,
      "outputs": []
    },
    {
      "cell_type": "markdown",
      "source": [
        "####Percentiles and Boxplots"
      ],
      "metadata": {
        "id": "Bls8D1753Y7g"
      }
    },
    {
      "cell_type": "code",
      "source": [
        "  print(state['Murder.Rate'].quantile([0.05, 0.025, 0.5, 0.75, 0.95]))"
      ],
      "metadata": {
        "id": "EcmgTuoS3eyL"
      },
      "execution_count": null,
      "outputs": []
    },
    {
      "cell_type": "code",
      "source": [],
      "metadata": {
        "id": "PprzfIle5Cmc"
      },
      "execution_count": null,
      "outputs": []
    }
  ]
}